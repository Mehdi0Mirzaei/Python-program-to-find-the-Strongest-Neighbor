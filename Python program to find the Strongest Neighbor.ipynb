{
 "cells": [
  {
   "cell_type": "code",
   "execution_count": 48,
   "id": "c325d6c9",
   "metadata": {},
   "outputs": [],
   "source": [
    "def find_strong_neighbor(lst,n):\n",
    "    lst1=[]\n",
    "    for item in range(1,n):\n",
    "        m=max(lst[item],lst[item-1])\n",
    "        lst1.append(m)\n",
    "    for j in lst1:\n",
    "        print(j,end=\" \")"
   ]
  },
  {
   "cell_type": "code",
   "execution_count": 27,
   "id": "710c496d",
   "metadata": {},
   "outputs": [],
   "source": [
    "lst2=[1,1,2,3,4,4,5,5]"
   ]
  },
  {
   "cell_type": "code",
   "execution_count": 28,
   "id": "ae9725a1",
   "metadata": {},
   "outputs": [
    {
     "name": "stdout",
     "output_type": "stream",
     "text": [
      "[5, 1, 2, 3, 4, 4, 5]\n"
     ]
    }
   ],
   "source": [
    "find_strong_neighbor(lst2)"
   ]
  },
  {
   "cell_type": "code",
   "execution_count": 47,
   "id": "bf52d70b",
   "metadata": {},
   "outputs": [
    {
     "name": "stdout",
     "output_type": "stream",
     "text": [
      "2 2 3 4 5 "
     ]
    }
   ],
   "source": [
    "# define a function for finding\n",
    "# the maximum for adjacent\n",
    "# pairs in the array\n",
    "def maximumAdjacent(arr1, n):\n",
    "   # array to store the max\n",
    "    # value between adjacent pairs\n",
    "    arr2 = [] \n",
    "     \n",
    "    # iterate from 1 to n - 1\n",
    "    for i in range(1, n):\n",
    "       # find max value between\n",
    "        # adjacent  pairs gets\n",
    "        # stored in r\n",
    "        r = max(arr1[i], arr1[i-1])\n",
    "         \n",
    "        # add element\n",
    "        arr2.append(r)\n",
    "         \n",
    "    # printing the elements\n",
    "    for ele in arr2 :\n",
    "        print(ele,end=\" \")\n",
    " \n",
    "if __name__ == \"__main__\" :\n",
    "   # size of the input array\n",
    "  n = 6 \n",
    "   # input array\n",
    "  arr1 = [1,2,2,3,4,5]\n",
    "   # function calling\n",
    "  maximumAdjacent(arr1, n)"
   ]
  },
  {
   "cell_type": "code",
   "execution_count": 49,
   "id": "5f9481e6",
   "metadata": {},
   "outputs": [
    {
     "name": "stdout",
     "output_type": "stream",
     "text": [
      "1 2 3 4 4 5 "
     ]
    }
   ],
   "source": [
    "maximumAdjacent(lst2,7)"
   ]
  },
  {
   "cell_type": "code",
   "execution_count": null,
   "id": "c1300166",
   "metadata": {},
   "outputs": [],
   "source": []
  }
 ],
 "metadata": {
  "kernelspec": {
   "display_name": "Python 3 (ipykernel)",
   "language": "python",
   "name": "python3"
  },
  "language_info": {
   "codemirror_mode": {
    "name": "ipython",
    "version": 3
   },
   "file_extension": ".py",
   "mimetype": "text/x-python",
   "name": "python",
   "nbconvert_exporter": "python",
   "pygments_lexer": "ipython3",
   "version": "3.9.13"
  }
 },
 "nbformat": 4,
 "nbformat_minor": 5
}
